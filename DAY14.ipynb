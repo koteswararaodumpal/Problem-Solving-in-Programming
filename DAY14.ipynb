{
 "cells": [
  {
   "cell_type": "code",
   "execution_count": 3,
   "metadata": {},
   "outputs": [
    {
     "name": "stdout",
     "output_type": "stream",
     "text": [
      "0 --> blue\n",
      "1 --> red\n",
      "2 --> yellow\n"
     ]
    }
   ],
   "source": [
    "colors = [\"blue\",\"red\",\"yellow\"] \n",
    "for i in range(len(colors)): \n",
    "    print(i,  '-->',  colors[i])"
   ]
  },
  {
   "cell_type": "code",
   "execution_count": 4,
   "metadata": {},
   "outputs": [
    {
     "name": "stdout",
     "output_type": "stream",
     "text": [
      "['__class__', '__delattr__', '__dir__', '__doc__', '__eq__', '__format__', '__ge__', '__getattribute__', '__gt__', '__hash__', '__init__', '__init_subclass__', '__iter__', '__le__', '__lt__', '__ne__', '__new__', '__next__', '__reduce__', '__reduce_ex__', '__repr__', '__setattr__', '__sizeof__', '__str__', '__subclasshook__']\n"
     ]
    }
   ],
   "source": [
    "colors = [\"blue\",\"red\",\"yellow\"] \n",
    "print(dir(enumerate(colors)))"
   ]
  },
  {
   "cell_type": "code",
   "execution_count": 5,
   "metadata": {},
   "outputs": [
    {
     "name": "stdout",
     "output_type": "stream",
     "text": [
      "rama --> blue\n",
      "krishna --> red\n",
      "kote --> yellow\n",
      "rama --> blue\n",
      "krishna --> red\n",
      "kote --> yellow\n"
     ]
    }
   ],
   "source": [
    "names = ['rama','krishna','kote']\n",
    "colors  =  [\"blue\",\"red\",\"yellow\",'green',] \n",
    "n = min(len(names), len(colors))\n",
    "for i in range(n):\n",
    "    print(names[i],  '-->',  colors[i])\n",
    "for  names,  colors  in  zip(names,colors): \n",
    "    print(names,  '-->',  colors)\n"
   ]
  },
  {
   "cell_type": "code",
   "execution_count": 6,
   "metadata": {},
   "outputs": [
    {
     "name": "stdout",
     "output_type": "stream",
     "text": [
      "blue\n",
      "green\n",
      "red\n",
      "yellow\n"
     ]
    }
   ],
   "source": [
    "colors = [\"blue\",\"red\",\"yellow\",'green',]\n",
    "for color in sorted(colors): \n",
    "    print(color)\n"
   ]
  },
  {
   "cell_type": "code",
   "execution_count": 7,
   "metadata": {},
   "outputs": [
    {
     "name": "stdout",
     "output_type": "stream",
     "text": [
      "yellow\n",
      "red\n",
      "green\n",
      "blue\n"
     ]
    }
   ],
   "source": [
    "colors = [\"blue\",\"red\",\"yellow\",'green',]\n",
    "for color in sorted(colors, reverse=True): \n",
    "    print(color)\n"
   ]
  },
  {
   "cell_type": "code",
   "execution_count": 9,
   "metadata": {},
   "outputs": [],
   "source": [
    "colors = [\"blue\",\"red\",\"yellow\",'green']\n",
    "def compare_length(c1,c2):\n",
    "    if len(c1) < len(c2):\n",
    "        return -1\n",
    "    if len(c1) > len(c2):\n",
    "        return 1\n"
   ]
  },
  {
   "cell_type": "code",
   "execution_count": null,
   "metadata": {},
   "outputs": [],
   "source": []
  }
 ],
 "metadata": {
  "kernelspec": {
   "display_name": "Python 3",
   "language": "python",
   "name": "python3"
  },
  "language_info": {
   "codemirror_mode": {
    "name": "ipython",
    "version": 3
   },
   "file_extension": ".py",
   "mimetype": "text/x-python",
   "name": "python",
   "nbconvert_exporter": "python",
   "pygments_lexer": "ipython3",
   "version": "3.7.3"
  }
 },
 "nbformat": 4,
 "nbformat_minor": 2
}

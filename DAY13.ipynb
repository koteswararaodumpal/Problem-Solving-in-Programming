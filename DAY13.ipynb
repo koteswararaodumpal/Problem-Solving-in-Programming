{
 "cells": [
  {
   "cell_type": "code",
   "execution_count": 1,
   "metadata": {},
   "outputs": [
    {
     "name": "stdout",
     "output_type": "stream",
     "text": [
      "not gitam\n"
     ]
    }
   ],
   "source": [
    "def not_string(str):\n",
    "    if(str[:3]=='not'):\n",
    "        return str\n",
    "    else:\n",
    "        return \"not \" + str\n",
    "print(not_string (\"gitam\"))\n"
   ]
  },
  {
   "cell_type": "code",
   "execution_count": 7,
   "metadata": {},
   "outputs": [
    {
     "name": "stdout",
     "output_type": "stream",
     "text": [
      "40\n"
     ]
    }
   ],
   "source": [
    "def  sum_double(a,b):\n",
    "    if  a==b:\n",
    "        return (a+b)*2\n",
    "    else:\n",
    "        return a+b \n",
    "print(sum_double(10,10))\n"
   ]
  },
  {
   "cell_type": "code",
   "execution_count": 9,
   "metadata": {},
   "outputs": [
    {
     "name": "stdout",
     "output_type": "stream",
     "text": [
      " gitgitgit\n"
     ]
    }
   ],
   "source": [
    "def front3(str): \n",
    "    res = ' '\n",
    "    for i in range(3):\n",
    "        res  =  res  +  str[:3]\n",
    "    return res \n",
    "print(front3(\"gitam\"))\n"
   ]
  },
  {
   "cell_type": "code",
   "execution_count": 10,
   "metadata": {},
   "outputs": [
    {
     "name": "stdout",
     "output_type": "stream",
     "text": [
      "gitgitgitgitgit\n"
     ]
    }
   ],
   "source": [
    "def front3(str):\n",
    "    return  str[:3]  *  len(str) \n",
    "print(front3(\"gitam\"))\n"
   ]
  },
  {
   "cell_type": "code",
   "execution_count": 13,
   "metadata": {},
   "outputs": [
    {
     "name": "stdout",
     "output_type": "stream",
     "text": [
      "0\n",
      "1\n",
      "1\n",
      "2\n",
      "3\n",
      "5\n",
      "8\n",
      "13\n",
      "21\n",
      "34\n"
     ]
    }
   ],
   "source": [
    "def fib(n):\n",
    "    f1  = 0\n",
    "    f2  = 1\n",
    "    print(f1) \n",
    "    print(f2)\n",
    "    for  i  in  range(2,n): \n",
    "        f3 = f1 + f2 \n",
    "        print(f3)\n",
    "        f1 = f2 \n",
    "        f2 = f3\n",
    "fib(10)\n"
   ]
  },
  {
   "cell_type": "code",
   "execution_count": 16,
   "metadata": {},
   "outputs": [
    {
     "name": "stdout",
     "output_type": "stream",
     "text": [
      "13\n",
      "21\n",
      "34\n",
      "55\n",
      "89\n"
     ]
    }
   ],
   "source": [
    "def  fib(m,n):\n",
    "    f1 = 0\n",
    "    f2  = 1\n",
    "    for  i  in  range(2,n):\n",
    "        f3 = f1 + f2\n",
    "        if(f3 >= m and f3 <= n): \n",
    "            print(f3)\n",
    "            \n",
    "        f1 = f2 \n",
    "        f2 = f3\n",
    "fib(10,100)\n"
   ]
  },
  {
   "cell_type": "code",
   "execution_count": 17,
   "metadata": {},
   "outputs": [
    {
     "name": "stdout",
     "output_type": "stream",
     "text": [
      "blue\n",
      "red\n",
      "yellow\n"
     ]
    }
   ],
   "source": [
    "colors = [\"blue\",\"red\",\"yellow\"]\n",
    "for color in colors: print(color)\n"
   ]
  },
  {
   "cell_type": "code",
   "execution_count": 19,
   "metadata": {},
   "outputs": [
    {
     "name": "stdout",
     "output_type": "stream",
     "text": [
      "hello"
     ]
    }
   ],
   "source": [
    "str  =  \"hello\"\n",
    "for i in str:\n",
    "    print(i,  end='')\n"
   ]
  },
  {
   "cell_type": "code",
   "execution_count": 20,
   "metadata": {},
   "outputs": [
    {
     "name": "stdout",
     "output_type": "stream",
     "text": [
      "yellow\n",
      "red\n",
      "blue\n"
     ]
    }
   ],
   "source": [
    "colors = [\"blue\",\"red\",\"yellow\"]\n",
    "for color in reversed(colors): \n",
    "    print(color)\n"
   ]
  },
  {
   "cell_type": "code",
   "execution_count": null,
   "metadata": {},
   "outputs": [],
   "source": []
  }
 ],
 "metadata": {
  "kernelspec": {
   "display_name": "Python 3",
   "language": "python",
   "name": "python3"
  },
  "language_info": {
   "codemirror_mode": {
    "name": "ipython",
    "version": 3
   },
   "file_extension": ".py",
   "mimetype": "text/x-python",
   "name": "python",
   "nbconvert_exporter": "python",
   "pygments_lexer": "ipython3",
   "version": "3.7.3"
  }
 },
 "nbformat": 4,
 "nbformat_minor": 2
}

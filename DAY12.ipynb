{
 "cells": [
  {
   "cell_type": "code",
   "execution_count": 2,
   "metadata": {},
   "outputs": [
    {
     "name": "stdout",
     "output_type": "stream",
     "text": [
      "False\n"
     ]
    }
   ],
   "source": [
    "def array123(nums):\n",
    "    for i in range(len(nums)-2):\n",
    "        if nums[i] == 1 and nums[i+1] == 2 and nums[i+2] == 3:\n",
    "            return True\n",
    "        return False\n",
    "nums=[1,2,1,2,4,3,3,4,4,1,2,63]\n",
    "print(array123(nums))"
   ]
  },
  {
   "cell_type": "code",
   "execution_count": 5,
   "metadata": {},
   "outputs": [
    {
     "data": {
      "text/plain": [
       "2"
      ]
     },
     "execution_count": 5,
     "metadata": {},
     "output_type": "execute_result"
    }
   ],
   "source": [
    "def string_match(str1,str2):\n",
    "    if len(str1) > len(str2):\n",
    "        l = len(str2)\n",
    "    else:\n",
    "        l = len(str1)\n",
    "    count = 0\n",
    "    for i in range(l):\n",
    "         if str1[i:i+2] == str2[i:i+2]:\n",
    "             count = count + 1\n",
    "    return count\n",
    "string_match(\"xcbaazz\",\"xxcaaz\")"
   ]
  },
  {
   "cell_type": "code",
   "execution_count": 6,
   "metadata": {},
   "outputs": [
    {
     "name": "stdout",
     "output_type": "stream",
     "text": [
      "True\n",
      "False\n",
      "True\n"
     ]
    }
   ],
   "source": [
    "def sleep_in(weekday, vacation):\n",
    "    if not weekday or vacation:\n",
    "        return True\n",
    "    else:\n",
    "        return False\n",
    "print(sleep_in(False,False))\n",
    "print(sleep_in(True,False))\n",
    "print(sleep_in(False,True))\n"
   ]
  },
  {
   "cell_type": "code",
   "execution_count": 7,
   "metadata": {},
   "outputs": [
    {
     "name": "stdout",
     "output_type": "stream",
     "text": [
      "itten\n",
      "ktten\n",
      "kittn\n"
     ]
    }
   ],
   "source": [
    "def missing_char(str,n):\n",
    "    return str[:n] + str[n+1:]\n",
    "print(missing_char('kitten',0))\n",
    "print(missing_char('kitten',1))\n",
    "print(missing_char('kitten',4))"
   ]
  },
  {
   "cell_type": "code",
   "execution_count": 9,
   "metadata": {},
   "outputs": [
    {
     "name": "stdout",
     "output_type": "stream",
     "text": [
      "2\n"
     ]
    }
   ],
   "source": [
    "def diff21(n):\n",
    "    if n <= 21:\n",
    "        return 21 - n\n",
    "    else:\n",
    "        return (n - 21)*2\n",
    "print(diff21(19)) \n"
   ]
  },
  {
   "cell_type": "code",
   "execution_count": 10,
   "metadata": {},
   "outputs": [
    {
     "name": "stdout",
     "output_type": "stream",
     "text": [
      "gtmnvriy"
     ]
    }
   ],
   "source": [
    "def altchar(str):\n",
    "     for i in range(0, len(str),2):\n",
    "             print(str[i], end='')\n",
    "altchar(\"gitamuniversity\") "
   ]
  },
  {
   "cell_type": "code",
   "execution_count": 11,
   "metadata": {},
   "outputs": [
    {
     "name": "stdout",
     "output_type": "stream",
     "text": [
      "gtmnvriy"
     ]
    }
   ],
   "source": [
    "def altchar(str):\n",
    "    for i in range(0, len(str),2):\n",
    "         print(str[i], end='')\n",
    "\n",
    "altchar(\"gitamuniversity\") "
   ]
  },
  {
   "cell_type": "code",
   "execution_count": null,
   "metadata": {},
   "outputs": [],
   "source": []
  }
 ],
 "metadata": {
  "kernelspec": {
   "display_name": "Python 3",
   "language": "python",
   "name": "python3"
  },
  "language_info": {
   "codemirror_mode": {
    "name": "ipython",
    "version": 3
   },
   "file_extension": ".py",
   "mimetype": "text/x-python",
   "name": "python",
   "nbconvert_exporter": "python",
   "pygments_lexer": "ipython3",
   "version": "3.7.3"
  }
 },
 "nbformat": 4,
 "nbformat_minor": 2
}
